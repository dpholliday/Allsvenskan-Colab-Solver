{
  "cells": [
    {
      "cell_type": "markdown",
      "metadata": {
        "id": "view-in-github",
        "colab_type": "text"
      },
      "source": [
        "<a href=\"https://colab.research.google.com/github/dpholliday/Allsvenskan-Colab-Solver/blob/main/AVsolverDPH.ipynb\" target=\"_parent\"><img src=\"https://colab.research.google.com/assets/colab-badge.svg\" alt=\"Open In Colab\"/></a>"
      ]
    },
    {
      "cell_type": "markdown",
      "metadata": {
        "id": "n8ObvRs3WXxp"
      },
      "source": [
        "# Allsvenskan Python Solver - Google Colab version\n",
        "\n",
        "**Notes**\n",
        "\n",
        "- This file was originally made by @sertalpbilal and is a fork of his FPL solver by @eurofpl to work for Allsvenskan\n",
        "- You need a prediction data (CSV) file to use this tool, we currently have AllFaLytics (@AllFaLytics) (currently designated datasource name: *review*) and FF Vamps Allsvenskan Fantasy EV (@FF_Vamps) (currently designated datasource name: *kiwi*)\n",
        "- Note in the AllFaLytics data generation the option to run with sample=true flag, true sets an upper limit of 4 points on the low sample players, which means the solver won't necessarily sell the player if you already own it but likely won't buy if you don't, critical in early season\n",
        "- Currently WC is set for GW1 for pre-season solves, you do still need to set up a team json\n",
        "- Default mix is 50:50 of both EV sources change to your preference\n",
        "\n",
        "- *Information for Sertalps version which can be helpful from here down*\n",
        "- *First time here?* Check my step-by-step tutorial on YouTube: https://youtu.be/bOiCmines3M\n",
        "- You can click \"Runtime\" and select \"Disconnect and Delete Runtime\" to clear all files if you are not running this solver for the first time and having issues.\n",
        "- You need to run both blue colored 🔽 and red colored 🔻 cells if you are running this solver for the first time. If you already have the solver, you can run red colored 🔻 cells only.\n",
        "- Questions/feedbacks/comments? Send me a DM on Twitter [@sertalpbilal](https://twitter.com/messages/compose?recipient_id=14057207)"
      ]
    },
    {
      "cell_type": "code",
      "execution_count": null,
      "metadata": {
        "cellView": "form",
        "id": "2nfZxj3sdfVR"
      },
      "outputs": [],
      "source": [
        "#@title 🔽 Run this cell to download the optimization solver (HiGHS)\n",
        "%%bash\n",
        "if [ -e solver ]\n",
        "then\n",
        "    echo \"Solver is already installed, continue...\"\n",
        "else\n",
        "    echo \"Downloading solver\"\n",
        "    apt-get install -qq wget\n",
        "    wget -nv https://github.com/JuliaBinaryWrappers/HiGHSstatic_jll.jl/releases/download/HiGHSstatic-v1.7.0%2B0/HiGHSstatic.v1.7.0.x86_64-linux-gnu-cxx11.tar.gz\n",
        "    mkdir solver\n",
        "    tar xzf HiGHSstatic.v1.7.0.x86_64-linux-gnu-cxx11.tar.gz -C solver\n",
        "    echo \"Done...\"\n",
        "fi"
      ]
    },
    {
      "cell_type": "code",
      "execution_count": null,
      "metadata": {
        "cellView": "form",
        "id": "jLfcGwTYW6rn"
      },
      "outputs": [],
      "source": [
        "#@title 🔻 Run this cell to download (or update) FPL Optimization codes\n",
        "%%bash\n",
        "if [ -e FPL-Optimization-Tools ]\n",
        "then\n",
        "    echo \"Removing old codes\"\n",
        "    rm -rf FPL-Optimization-Tools\n",
        "else\n",
        "    echo \"Downloading codes for the first time\"\n",
        "fi\n",
        "echo \"Cloning...\"\n",
        "git clone -q https://github.com/PatrikHed/FPL-Optimization-Tools.git\n",
        "pip install -q -r FPL-Optimization-Tools/requirements.txt\n",
        "echo \"Done!\""
      ]
    },
    {
      "cell_type": "code",
      "execution_count": null,
      "metadata": {
        "colab": {
          "base_uri": "https://localhost:8080/"
        },
        "id": "FU_mRwMThXmv",
        "outputId": "4029d601-be70-4bc6-c50c-ace64b1171b5",
        "cellView": "form"
      },
      "outputs": [
        {
          "output_type": "stream",
          "name": "stdout",
          "text": [
            "Now visit https://en.fantasy.allsvenskan.se/api/my-team/2189/ and copy the content\n"
          ]
        }
      ],
      "source": [
        "#@title 🔻 Enter your team ID below and run this cell\n",
        "\n",
        "team_id =   2189 #@param {type:\"integer\"}\n",
        "\n",
        "print(f\"Now visit https://en.fantasy.allsvenskan.se/api/my-team/{team_id}/ and copy the content\")"
      ]
    },
    {
      "cell_type": "code",
      "execution_count": null,
      "metadata": {
        "cellView": "form",
        "id": "4G43fnYEild_"
      },
      "outputs": [],
      "source": [
        "#@title 🔻 Run this cell first, and once you see a textbox, paste the content of the URL to the textbox below.\n",
        "!pip install -q ipywidgets\n",
        "import ipywidgets as widgets\n",
        "team_data = widgets.Textarea(\n",
        "    value='',\n",
        "    placeholder='Put my-team URL content here',\n",
        "    description='String:',\n",
        "    disabled=False,\n",
        "    layout=widgets.Layout(width=\"500px\", height=\"100px\")\n",
        ")\n",
        "team_data"
      ]
    },
    {
      "cell_type": "code",
      "execution_count": null,
      "metadata": {
        "colab": {
          "base_uri": "https://localhost:8080/"
        },
        "id": "3stTKbEhlOxi",
        "outputId": "ebf93d78-e489-45aa-fe1c-0c15bf934355",
        "cellView": "form"
      },
      "outputs": [
        {
          "output_type": "stream",
          "name": "stdout",
          "text": [
            "Done!\n"
          ]
        }
      ],
      "source": [
        "#@title 🔻 Run this cell to parse your team information you pasted into the program.\n",
        "\n",
        "import json\n",
        "team_values = json.loads(team_data.value)\n",
        "with open('team.json', 'w') as f:\n",
        "  json.dump(team_values, f, indent=2)\n",
        "# team_values\n",
        "print(\"Done!\")"
      ]
    },
    {
      "cell_type": "code",
      "execution_count": null,
      "metadata": {
        "id": "fFjdi5PxtELJ",
        "cellView": "form"
      },
      "outputs": [],
      "source": [
        "import pathlib\n",
        "data_path = pathlib.Path('./data')\n",
        "data_path.mkdir(exist_ok=True)\n",
        "parent_data_path = pathlib.Path('../data')\n",
        "parent_data_path.mkdir(exist_ok=True)\n",
        "#@title 🔻 Run this cell to create the data folder, then upload a manual CSV or download data directly using 1 or both of the next two cells:\n",
        "#@markdown - Click Files (📁) on the left\n",
        "#@markdown - Right click on an empty space and select \"Refresh\".\n",
        "#@markdown - Navigate to `data` directory.\n",
        "#@markdown - Right click on directory and upload projections (should be named **allsvenskan_xpts.csv**)\n",
        "\n"
      ]
    },
    {
      "cell_type": "code",
      "execution_count": null,
      "metadata": {
        "id": "FVRb4iw2GJLX",
        "cellView": "form"
      },
      "outputs": [],
      "source": [
        "#@title 🔻 Download, Clean and Upload Allfalytics Data (see @AllFaLytics on twitter or join us on Discord https://discord.gg/QCDNV4U8MZ)\n",
        "\n",
        "#\"@eurofpl\" adding import functionality for purpose of solving only, EV data is property of \"@AllFaLytics\"\n",
        "\n",
        "with open('./data/allsvenskan_xpts.csv', 'w') as creating_new_csv_file:\n",
        "   pass\n",
        "\n",
        "import csv, urllib.request\n",
        "# Toggle the two URL addresses below. ?sample=true assigns a value to players\n",
        "# with minimal data that means they should become don't buy, don't sell\n",
        "# to the solver effectively. Use without this filter after GW5 or so\n",
        "\n",
        "url  = 'https://allfalytics.azurewebsites.net/model/projectionscsv?sample=true'\n",
        "#url = 'https://allfalytics.azurewebsites.net/model/projectionscsv'\n",
        "response = urllib.request.urlopen(url)\n",
        "lines = [l.decode('utf-8') for l in response.readlines()]\n",
        "cr = csv.reader(lines)\n",
        "\n",
        "import csv\n",
        "\n",
        "# open the file in the write mode\n",
        "f = open('./data/allsvenskan_xpts.csv', 'w')\n",
        "\n",
        "# create the csv writer\n",
        "writer = csv.writer(f)\n",
        "\n",
        "# write a row to the csv file\n",
        "for row in cr:\n",
        "  writer.writerow(row)\n",
        "\n",
        "# close the file\n",
        "f.close()\n",
        "\n",
        "\n",
        "# importing the pandas library\n",
        "import pandas as pd\n",
        "import numpy as np\n",
        "# reading the csv file\n",
        "df = pd.read_csv('./data/allsvenskan_xpts.csv')\n",
        "\n",
        "# updating the column value/data\n",
        "df['Pos'] = df['Pos'].replace({'F': 'D'})\n",
        "df['Pos'] = df['Pos'].replace({'A': 'F'})\n",
        "\n",
        "# temporary PTB GW 11 code\n",
        "\n",
        "# df['11_Pts'] = np.where(df['Pos']==2, df['11_Pts']*2, df['11_Pts'])\n",
        "\n",
        "# writing into the file\n",
        "df.to_csv('./data/allsvenskan_xpts.csv', index=False)"
      ]
    },
    {
      "cell_type": "code",
      "source": [
        "#@title 🔻 Download, Upload FF Vamps Allsvenskan Fantasy EV Data (see @FF_Vamps on twitter or join us on Discord https://discord.gg/H7YCbm485x)\n",
        "\n",
        "#\"@eurofpl\" adding import functionality for purpose of solving only, EV data is property of \"@FF_Vamps\"\n",
        "\n",
        "import pandas as pd\n",
        "import numpy as np\n",
        "\n",
        "sheet_id = '120gN7yjrNDnXjeKcdCEpuWF0g-bgNpir'\n",
        "xls = pd.ExcelFile(f\"https://docs.google.com/spreadsheets/d/{sheet_id}/export?format=xlsx\")\n",
        "\n",
        "VampsAllsvenskanFantasyEVModel = pd.read_excel(xls, 'CSV', header = 0)\n",
        "\n",
        "VampsAllsvenskanFantasyEVModel.to_csv('./data/VampsAllsvenskanFantasyEVModel.csv', index=False)\n",
        "\n",
        "\n",
        "# reading the csv file\n",
        "#df = pd.read_csv('./data/VampsAllsvenskanFantasyEVModel.csv')\n",
        "\n",
        "# temporary PTB GW 11 code\n",
        "\n",
        "#df['11_Pts'] = np.where(df['Pos']=='D', df['11_Pts']*2, df['11_Pts'])\n",
        "\n",
        "# writing into the file\n",
        "#df.to_csv('./data/VampsAllsvenskanFantasyEVModel.csv', index=False)"
      ],
      "metadata": {
        "id": "9fEwU0leTxQC",
        "cellView": "form"
      },
      "execution_count": null,
      "outputs": []
    },
    {
      "cell_type": "code",
      "execution_count": null,
      "metadata": {
        "cellView": "form",
        "id": "WjXIfDZAuZS-"
      },
      "outputs": [],
      "source": [
        "import sys\n",
        "sys.path.append(\"FPL-Optimization-Tools/src\")\n",
        "\n",
        "import subprocess\n",
        "if 'o_PIPE' not in locals():\n",
        "  o_PIPE = subprocess.PIPE\n",
        "  o_POPEN = subprocess.Popen\n",
        "\n",
        "def realtime_popen(cmd, **kwargs):\n",
        "  with o_POPEN(cmd.split(), stdout=o_PIPE, bufsize=1, universal_newlines=True) as p:\n",
        "    for line in p.stdout:\n",
        "      print(line, end='')\n",
        "    return p\n",
        "\n",
        "subprocess.Popen = realtime_popen\n",
        "\n",
        "from multi_period_dev import prep_data, solve_multi_period_fpl\n",
        "#@title 🔻 Run this cell to import solver and redirect log"
      ]
    },
    {
      "cell_type": "code",
      "execution_count": null,
      "metadata": {
        "id": "mCzeYWdRvAlL",
        "cellView": "form"
      },
      "outputs": [],
      "source": [
        "options = {\n",
        "    \"api_base\": \"https://fantasy.allsvenskan.se\",\n",
        "    \"xPts_file_path\": \"../data/allsvenskan_xpts.csv\",\n",
        "    \"team_json\": \"../data/allsvenskanteam.json\",\n",
        "    \"login_json\": \"../data/allsvenskanlogin.json\",\n",
        "    \"login_url\": \"https://fantasy.allsvenskan.se/api/player/login/\",\n",
        "    \"horizon\": 8,\n",
        "    \"ft_value\": 1.5,\n",
        "    \"itb_value\": 0.08,\n",
        "    \"no_transfer_last_gws\": 1,\n",
        "    \"xmin_lb\": 20,\n",
        "    \"ev_per_price_cutoff\": 20,\n",
        "    \"secs\": 400,\n",
        "    \"bench_weights\": {\"0\": 0.03, \"1\": 0.21, \"2\": 0.06,  \"3\": 0.003},\n",
        "    \"preseason\": False,\n",
        "    \"banned\": [],\n",
        "    \"locked\": [],\n",
        "    \"use_wc\": None,\n",
        "    \"use_bb\": None,\n",
        "    \"use_fh\": None,\n",
        "    \"use_lr\": None,\n",
        "    \"use_2c\": None,\n",
        "    \"use_ptb\": None,\n",
        "    \"chip_limits\": {\"bb\": 0, \"wc\": 0, \"fh\": 0,  \"tc\": 0, \"lr\":0, \"2c\":0, \"ptb\":0},\n",
        "    \"no_chip_gws\": [],\n",
        "    #\"allowed_chip_gws\": {\"bb\": [], \"wc\": [], \"fh\": [], \"tc\": []},\n",
        "    \"allowed_chip_gws\": {\"bb\": [], \"wc\": [], \"fh\": [], \"tc\": [], \"lr\": [], \"2c\": [], \"ptb\": []},\n",
        "    \"iteration\": 1,\n",
        "    # Replace with 'kiwi' if you are using Kiwi's data,\n",
        "    # or 'mikkel' if you are using Mikkel Tokvam's data\n",
        "    #'datasource': 'review',\n",
        "    #For a mixed solve comment out the line above and uncomment two lines below\n",
        "    'datasource': 'mixed',\n",
        "    'data_weights': {'review': 75, 'kiwi': 25},\n",
        "    # do not edit parameters below this line\n",
        "    'data_path': './data/allsvenskan_xpts.csv',\n",
        "    'kiwi_data_path': './data/VampsAllsvenskanFantasyEVModel.csv',\n",
        "    'mikkel_data_path': './data/mikkel.csv',\n",
        "    'solver': 'highs',\n",
        "    'solver_path': './solver/bin/highs',\n",
        "    'presolve': 'on',\n",
        "    'use_cmd': False\n",
        "}\n",
        "data = prep_data(team_values, options)\n",
        "result = solve_multi_period_fpl(data, options)\n",
        "print(\"Done!\")\n",
        "#@title 🔻 Edit settings inside this cell and run it to start the solver"
      ]
    },
    {
      "cell_type": "code",
      "execution_count": null,
      "metadata": {
        "cellView": "form",
        "id": "PkSR0glqyYdh"
      },
      "outputs": [],
      "source": [
        "#@title 🔻 Run this cell to display solutions\n",
        "\n",
        "\n",
        "\n",
        "import pandas as pd\n",
        "import datetime\n",
        "import os\n",
        "from IPython.display import display, HTML, Markdown, Javascript\n",
        "\n",
        "display(Javascript('''google.colab.output.setIframeHeight(0, true, {maxHeight: 5000})'''))\n",
        "\n",
        "for r in result:\n",
        "  iter = r['iter']\n",
        "  time_now = datetime.datetime.now()\n",
        "  stamp = time_now.strftime(\"%Y-%m-%d_%H-%M-%S\")\n",
        "  if not (os.path.exists(\"../data/results/\")):\n",
        "    pathlib.Path(\"./data/results/\").mkdir(parents=True, exist_ok=True)\n",
        "  r['picks'].to_csv(f\"./data/results/regular_{stamp}_{iter}.csv\")\n",
        "\n",
        "result_table = pd.DataFrame(result)\n",
        "rt = result_table[['iter', 'sell', 'buy', 'score','total_xp']].copy()\n",
        "rt['iter'] += 1\n",
        "\n",
        "display(Markdown(f'## Solution Summary'))\n",
        "display(HTML(rt.to_html()))\n",
        "\n",
        "display(Markdown(f'## Solution Details'))\n",
        "\n",
        "for j, r in enumerate(result):\n",
        "  display(Markdown(f'### Solution {j+1}'))\n",
        "  print(r['summary'])\n"
      ]
    },
    {
      "cell_type": "code",
      "execution_count": null,
      "metadata": {
        "id": "2F4bIgZrj6Iy",
        "cellView": "form"
      },
      "outputs": [],
      "source": [
        "#@title 🔻 View saved runs\n",
        "savedruns"
      ]
    },
    {
      "cell_type": "code",
      "execution_count": null,
      "metadata": {
        "colab": {
          "background_save": true
        },
        "id": "zB4r_tNij4Dj",
        "cellView": "form"
      },
      "outputs": [],
      "source": [
        "#@title 🔻 Save this run\n",
        "\n",
        "if 'savedruns' in locals():\n",
        "  savedruns = savedruns\n",
        "else:\n",
        "  savedruns = rt\n",
        "\n",
        "temporary = rt\n",
        "dz = options['allowed_chip_gws']\n",
        "z= len(savedruns)+1\n",
        "temporary['Options'] =str(dz)\n",
        "time_now2 = datetime.datetime.now()\n",
        "stamp2 = time_now2.strftime(\"%Y-%m-%d_%H-%M-%S\")\n",
        "temporary['Date'] =stamp2\n",
        "savedruns= savedruns.append(temporary)\n",
        "savedruns"
      ]
    },
    {
      "cell_type": "code",
      "execution_count": null,
      "metadata": {
        "cellView": "form",
        "id": "f7hrxmS5Jl73"
      },
      "outputs": [],
      "source": [
        "#@title 🔻 (WIP) Run this cell to run sensitivity analysis\n",
        "\n",
        "import sys\n",
        "import json\n",
        "sys.path.append(\"FPL-Optimization-Tools/run\")\n",
        "from simulations import run_sensitivity\n",
        "\n",
        "with open('settings.json', 'w') as f:\n",
        "  json.dump(options, f)\n",
        "run_sensitivity(None)"
      ]
    },
    {
      "cell_type": "code",
      "execution_count": null,
      "metadata": {
        "id": "iXAC-AyIJliK",
        "cellView": "form"
      },
      "outputs": [],
      "source": [
        "#@title 🔻 (WIP) Run this cell to display sensitivity analysis results\n",
        "from sensitivity import read_sensitivity\n",
        "n = read_sensitivity()"
      ]
    }
  ],
  "metadata": {
    "colab": {
      "provenance": [],
      "include_colab_link": true
    },
    "kernelspec": {
      "display_name": "Python 3",
      "name": "python3"
    },
    "language_info": {
      "name": "python"
    }
  },
  "nbformat": 4,
  "nbformat_minor": 0
}